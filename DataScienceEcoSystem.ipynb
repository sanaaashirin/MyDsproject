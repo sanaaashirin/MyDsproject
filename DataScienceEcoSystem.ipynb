{
 "cells": [
  {
   "cell_type": "markdown",
   "id": "972db652-7c19-4d04-ab9b-d04cfdc3527c",
   "metadata": {},
   "source": [
    "# Data Science Tools and Ecosystem"
   ]
  },
  {
   "cell_type": "markdown",
   "id": "e2972301-1db9-48d0-b8d1-510bcb71fc8a",
   "metadata": {},
   "source": [
    "In this notebook, Data Science Tools and Ecosystem are summarized."
   ]
  },
  {
   "cell_type": "markdown",
   "id": "3be6e706-e38b-4b69-95fd-71412ae631d1",
   "metadata": {},
   "source": [
    "**objectives**"
   ]
  },
  {
   "cell_type": "markdown",
   "id": "704e21b1-8386-4b02-97df-6ab350a5f678",
   "metadata": {},
   "source": [
    "- Create a Jupyter Notebook\n",
    "\n",
    "- Insert code and markdown cells\n",
    "\n",
    "-List popular languages for Data Science.\n",
    "\n",
    "- Share your notebook through GitHub"
   ]
  },
  {
   "cell_type": "markdown",
   "id": "1e6f85e2-e823-4128-8821-9f401d5dbcef",
   "metadata": {},
   "source": [
    "Some of the popular languages that Data Scientists use are:"
   ]
  },
  {
   "cell_type": "markdown",
   "id": "42d38258-df98-491e-9906-a92d3ea689d5",
   "metadata": {},
   "source": [
    "1. Python \n",
    "2. R\n",
    "3. Julia"
   ]
  },
  {
   "cell_type": "markdown",
   "id": "f58780a0-9eab-4cc5-b77c-1224a3d3f191",
   "metadata": {},
   "source": [
    "Some of the commonly used libraries used by Data Scientists include:"
   ]
  },
  {
   "cell_type": "markdown",
   "id": "16e5b518-1e8e-4893-86d8-8d069e338044",
   "metadata": {},
   "source": [
    "1. Pandas\n",
    "2. Numpy\n",
    "3. PyTorch\n",
    "4. TensoFlow"
   ]
  },
  {
   "cell_type": "markdown",
   "id": "dd0c8f0c-d43e-4901-8c02-8d49f12f6dca",
   "metadata": {},
   "source": [
    "| Data science tools|\n",
    "|-------------------|\n",
    "|RStudio|\n",
    "|Jupyter Notebooks|\n",
    "|Visual Studio Code|"
   ]
  },
  {
   "cell_type": "markdown",
   "id": "3221195b-51d0-4f3e-b912-f489f1b5fc1b",
   "metadata": {},
   "source": [
    "### Below are a few examples of evaluating arithmetic expressions in Python"
   ]
  },
  {
   "cell_type": "markdown",
   "id": "0ef99f73-8bf7-4f89-8f9c-039483ea4cef",
   "metadata": {},
   "source": [
    "This a simple arithmetic expression to mutiply then add integers"
   ]
  },
  {
   "cell_type": "code",
   "execution_count": 4,
   "id": "1d5cb2d5-082a-46b6-bd6b-c1a30c49a0ac",
   "metadata": {
    "tags": []
   },
   "outputs": [
    {
     "data": {
      "text/plain": [
       "17"
      ]
     },
     "execution_count": 4,
     "metadata": {},
     "output_type": "execute_result"
    }
   ],
   "source": [
    "(3*4)+5"
   ]
  },
  {
   "cell_type": "markdown",
   "id": "a65e7875-a26c-48c6-b004-b225f36bf23c",
   "metadata": {},
   "source": [
    " This will convert 200 minutes to hours by diving by 60"
   ]
  },
  {
   "cell_type": "code",
   "execution_count": 5,
   "id": "f05e3fa5-14fc-4896-9c23-680e88f87f87",
   "metadata": {
    "tags": []
   },
   "outputs": [
    {
     "data": {
      "text/plain": [
       "3.3333333333333335"
      ]
     },
     "execution_count": 5,
     "metadata": {},
     "output_type": "execute_result"
    }
   ],
   "source": [
    "200/60"
   ]
  },
  {
   "cell_type": "code",
   "execution_count": null,
   "id": "7cc44d76-0770-48c8-be97-e04c6a522bd2",
   "metadata": {},
   "outputs": [],
   "source": []
  }
 ],
 "metadata": {
  "kernelspec": {
   "display_name": "Python",
   "language": "python",
   "name": "conda-env-python-py"
  },
  "language_info": {
   "codemirror_mode": {
    "name": "ipython",
    "version": 3
   },
   "file_extension": ".py",
   "mimetype": "text/x-python",
   "name": "python",
   "nbconvert_exporter": "python",
   "pygments_lexer": "ipython3",
   "version": "3.7.12"
  }
 },
 "nbformat": 4,
 "nbformat_minor": 5
}
